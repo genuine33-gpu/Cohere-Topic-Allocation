{
  "nbformat": 4,
  "nbformat_minor": 0,
  "metadata": {
    "colab": {
      "provenance": []
    },
    "kernelspec": {
      "name": "python3",
      "display_name": "Python 3"
    },
    "language_info": {
      "name": "python"
    }
  },
  "cells": [
    {
      "cell_type": "code",
      "source": [
        "pip install cohere"
      ],
      "metadata": {
        "colab": {
          "base_uri": "https://localhost:8080/"
        },
        "id": "iKh76MbXwd5u",
        "outputId": "31197301-d695-457a-d6a0-447184bd7f58"
      },
      "execution_count": null,
      "outputs": [
        {
          "output_type": "stream",
          "name": "stdout",
          "text": [
            "Collecting cohere\n",
            "  Downloading cohere-4.51-py3-none-any.whl (52 kB)\n",
            "\u001b[?25l     \u001b[90m━━━━━━━━━━━━━━━━━━━━━━━━━━━━━━━━━━━━━━━━\u001b[0m \u001b[32m0.0/52.0 kB\u001b[0m \u001b[31m?\u001b[0m eta \u001b[36m-:--:--\u001b[0m\r\u001b[2K     \u001b[90m━━━━━━━━━━━━━━━━━━━━━━━━━━━━━━━━━━━━━━━━\u001b[0m \u001b[32m52.0/52.0 kB\u001b[0m \u001b[31m1.6 MB/s\u001b[0m eta \u001b[36m0:00:00\u001b[0m\n",
            "\u001b[?25hRequirement already satisfied: aiohttp<4.0,>=3.0 in /usr/local/lib/python3.10/dist-packages (from cohere) (3.9.3)\n",
            "Collecting backoff<3.0,>=2.0 (from cohere)\n",
            "  Downloading backoff-2.2.1-py3-none-any.whl (15 kB)\n",
            "Collecting fastavro<2.0,>=1.8 (from cohere)\n",
            "  Downloading fastavro-1.9.4-cp310-cp310-manylinux_2_17_x86_64.manylinux2014_x86_64.whl (3.1 MB)\n",
            "\u001b[2K     \u001b[90m━━━━━━━━━━━━━━━━━━━━━━━━━━━━━━━━━━━━━━━━\u001b[0m \u001b[32m3.1/3.1 MB\u001b[0m \u001b[31m25.0 MB/s\u001b[0m eta \u001b[36m0:00:00\u001b[0m\n",
            "\u001b[?25hCollecting importlib_metadata<7.0,>=6.0 (from cohere)\n",
            "  Downloading importlib_metadata-6.11.0-py3-none-any.whl (23 kB)\n",
            "Requirement already satisfied: requests<3.0.0,>=2.25.0 in /usr/local/lib/python3.10/dist-packages (from cohere) (2.31.0)\n",
            "Requirement already satisfied: urllib3<3,>=1.26 in /usr/local/lib/python3.10/dist-packages (from cohere) (2.0.7)\n",
            "Requirement already satisfied: aiosignal>=1.1.2 in /usr/local/lib/python3.10/dist-packages (from aiohttp<4.0,>=3.0->cohere) (1.3.1)\n",
            "Requirement already satisfied: attrs>=17.3.0 in /usr/local/lib/python3.10/dist-packages (from aiohttp<4.0,>=3.0->cohere) (23.2.0)\n",
            "Requirement already satisfied: frozenlist>=1.1.1 in /usr/local/lib/python3.10/dist-packages (from aiohttp<4.0,>=3.0->cohere) (1.4.1)\n",
            "Requirement already satisfied: multidict<7.0,>=4.5 in /usr/local/lib/python3.10/dist-packages (from aiohttp<4.0,>=3.0->cohere) (6.0.5)\n",
            "Requirement already satisfied: yarl<2.0,>=1.0 in /usr/local/lib/python3.10/dist-packages (from aiohttp<4.0,>=3.0->cohere) (1.9.4)\n",
            "Requirement already satisfied: async-timeout<5.0,>=4.0 in /usr/local/lib/python3.10/dist-packages (from aiohttp<4.0,>=3.0->cohere) (4.0.3)\n",
            "Requirement already satisfied: zipp>=0.5 in /usr/local/lib/python3.10/dist-packages (from importlib_metadata<7.0,>=6.0->cohere) (3.17.0)\n",
            "Requirement already satisfied: charset-normalizer<4,>=2 in /usr/local/lib/python3.10/dist-packages (from requests<3.0.0,>=2.25.0->cohere) (3.3.2)\n",
            "Requirement already satisfied: idna<4,>=2.5 in /usr/local/lib/python3.10/dist-packages (from requests<3.0.0,>=2.25.0->cohere) (3.6)\n",
            "Requirement already satisfied: certifi>=2017.4.17 in /usr/local/lib/python3.10/dist-packages (from requests<3.0.0,>=2.25.0->cohere) (2024.2.2)\n",
            "Installing collected packages: importlib_metadata, fastavro, backoff, cohere\n",
            "  Attempting uninstall: importlib_metadata\n",
            "    Found existing installation: importlib-metadata 7.0.1\n",
            "    Uninstalling importlib-metadata-7.0.1:\n",
            "      Successfully uninstalled importlib-metadata-7.0.1\n",
            "Successfully installed backoff-2.2.1 cohere-4.51 fastavro-1.9.4 importlib_metadata-6.11.0\n"
          ]
        }
      ]
    },
    {
      "cell_type": "code",
      "execution_count": null,
      "metadata": {
        "colab": {
          "base_uri": "https://localhost:8080/"
        },
        "id": "PMIDUn11wQiV",
        "outputId": "b2121a5c-e85a-410a-8082-f34548745bdf"
      },
      "outputs": [
        {
          "output_type": "stream",
          "name": "stdout",
          "text": [
            "[Classification<prediction: \"Change account settings\", confidence: 0.98489076, labels: {'Cancelling coverage': LabelPrediction(confidence=0.013402388), 'Change account settings': LabelPrediction(confidence=0.98489076), 'Filing a claim and viewing status': LabelPrediction(confidence=0.00035031603), 'Finding policy details': LabelPrediction(confidence=0.0013565323)}>, Classification<prediction: \"Finding policy details\", confidence: 0.8245087, labels: {'Cancelling coverage': LabelPrediction(confidence=0.053942572), 'Change account settings': LabelPrediction(confidence=0.07816833), 'Filing a claim and viewing status': LabelPrediction(confidence=0.043380383), 'Finding policy details': LabelPrediction(confidence=0.8245087)}>]\n"
          ]
        }
      ],
      "source": [
        "import cohere\n",
        "from cohere.responses.classify import Example\n",
        "\n",
        "co = cohere.Client('Xoe8bygSGMRgnzIaLQJOxknVdSa2gKMvZ6P0XzB5')\n",
        "\n",
        "examples=[\n",
        "  Example(\"How do I find my insurance policy?\", \"Finding policy details\"),\n",
        "  Example(\"How do I download a copy of my insurance policy?\", \"Finding policy details\"),\n",
        "  Example(\"How do I find my policy effective date?\", \"Finding policy details\"),\n",
        "  Example(\"When does my insurance policy end?\", \"Finding policy details\"),\n",
        "  Example(\"Could you please tell me the date my policy becomes effective?\", \"Finding policy details\"),\n",
        "  Example(\"How do I sign up for electronic filing?\", \"Change account settings\"),\n",
        "  Example(\"How do I change my policy?\", \"Change account settings\"),\n",
        "  Example(\"How do I sign up for direct deposit?\", \"Change account settings\"),\n",
        "  Example(\"I want direct deposit. Can you help with that?\", \"Change account settings\"),\n",
        "  Example(\"Could you deposit money into my account rather than mailing me a physical cheque?\", \"Change account settings\"),\n",
        "  Example(\"How do I file an insurance claim?\", \"Filing a claim and viewing status\"),\n",
        "  Example(\"How do I file a reimbursement claim?\", \"Filing a claim and viewing status\"),\n",
        "  Example(\"How do I check my claim status?\", \"Filing a claim and viewing status\"),\n",
        "  Example(\"When will my claim be reimbursed?\", \"Filing a claim and viewing status\"),\n",
        "  Example(\"I filed my claim 2 weeks ago but I still haven't received a deposit for it.\", \"Filing a claim and viewing status\"),\n",
        "  Example(\"I want to cancel my policy immediately! This is nonsense.\", \"Cancelling coverage\"),\n",
        "  Example(\"Could you please help my end my insurance coverage? Thank you.\", \"Cancelling coverage\"),\n",
        "  Example(\"Your service sucks. I'm switching providers. Cancel my coverage.\", \"Cancelling coverage\"),\n",
        "  Example(\"Hello there! How do I cancel my coverage?\", \"Cancelling coverage\"),\n",
        "  Example(\"How do I delete my account?\", \"Cancelling coverage\")\n",
        "]\n",
        "inputs=[\n",
        "  \"I want to change my password\",\n",
        "  \"Does my policy cover prescription medication?\"\n",
        "]\n",
        "\n",
        "response = co.classify(\n",
        "  inputs=inputs,\n",
        "  examples=examples,\n",
        ")\n"
      ]
    },
    {
      "cell_type": "code",
      "source": [
        "response"
      ],
      "metadata": {
        "id": "f-wGu9zowoq4",
        "outputId": "3b8f5135-95ca-4c62-ecc3-33f793db10d8",
        "colab": {
          "base_uri": "https://localhost:8080/"
        }
      },
      "execution_count": null,
      "outputs": [
        {
          "output_type": "execute_result",
          "data": {
            "text/plain": [
              "[Classification<prediction: \"Change account settings\", confidence: 0.98489076, labels: {'Cancelling coverage': LabelPrediction(confidence=0.013402388), 'Change account settings': LabelPrediction(confidence=0.98489076), 'Filing a claim and viewing status': LabelPrediction(confidence=0.00035031603), 'Finding policy details': LabelPrediction(confidence=0.0013565323)}>, Classification<prediction: \"Finding policy details\", confidence: 0.8245087, labels: {'Cancelling coverage': LabelPrediction(confidence=0.053942572), 'Change account settings': LabelPrediction(confidence=0.07816833), 'Filing a claim and viewing status': LabelPrediction(confidence=0.043380383), 'Finding policy details': LabelPrediction(confidence=0.8245087)}>]"
            ]
          },
          "metadata": {},
          "execution_count": 5
        }
      ]
    }
  ]
}